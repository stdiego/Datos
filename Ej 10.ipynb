{
 "cells": [
  {
   "cell_type": "code",
   "execution_count": null,
   "id": "initial_id",
   "metadata": {
    "collapsed": true
   },
   "outputs": [],
   "source": ""
  },
  {
   "metadata": {
    "ExecuteTime": {
     "end_time": "2025-07-02T19:31:45.914613Z",
     "start_time": "2025-07-02T19:31:45.910314Z"
    }
   },
   "cell_type": "code",
   "source": [
    "from itertools import groupby\n",
    "\n",
    "import pandas as pd\n",
    "from PIL.ImageColor import colormap"
   ],
   "id": "9cd448e888e90d2f",
   "outputs": [],
   "execution_count": 2
  },
  {
   "metadata": {
    "ExecuteTime": {
     "end_time": "2025-07-02T19:31:47.197797Z",
     "start_time": "2025-07-02T19:31:47.163436Z"
    }
   },
   "cell_type": "code",
   "source": [
    "df = pd.read_csv(\"C:/Users/diego/Desktop/cursos/viajes_surfistas.csv\")\n",
    "df"
   ],
   "id": "dbaca7406a5000a7",
   "outputs": [
    {
     "data": {
      "text/plain": [
       "                           homename  homecontinent               homecountry  \\\n",
       "0            Canadian in La La Land  North America  United States of America   \n",
       "1            Canadian in La La Land  North America  United States of America   \n",
       "2            Canadian in La La Land  North America  United States of America   \n",
       "3            Canadian in La La Land  North America  United States of America   \n",
       "4            Canadian in La La Land  North America  United States of America   \n",
       "...                             ...            ...                       ...   \n",
       "9506  Bridgetown, Western Australia      Australia                 Australia   \n",
       "9507                  Lille, France         Europe                    France   \n",
       "9508                             MX  South America                    Mexico   \n",
       "9509        Kuta - Bali - Indonesia           Asia                 Indonesia   \n",
       "9510        Kuta - Bali - Indonesia           Asia                 Indonesia   \n",
       "\n",
       "        homelat     homelon travelcontinent             travelcountry  \\\n",
       "0     33.930030 -118.280993   North America  United States of America   \n",
       "1     33.930030 -118.280993   North America  United States of America   \n",
       "2     33.930030 -118.280993   North America  United States of America   \n",
       "3     33.930030 -118.280993   North America  United States of America   \n",
       "4     33.930030 -118.280993   North America  United States of America   \n",
       "...         ...         ...             ...                       ...   \n",
       "9506 -33.954448  116.131214       Australia                 Australia   \n",
       "9507  50.629250    3.057256          Europe                    France   \n",
       "9508  23.634501 -102.552784   South America                    Mexico   \n",
       "9509  -8.739184  115.171130            Asia                 Indonesia   \n",
       "9510  -8.739184  115.171130            Asia                 Indonesia   \n",
       "\n",
       "      travellat   travellon  \n",
       "0     33.887255 -118.411912  \n",
       "1     34.022100 -118.481000  \n",
       "2     34.030400 -118.779000  \n",
       "3     33.887255 -118.411912  \n",
       "4     33.888889 -118.405278  \n",
       "...         ...         ...  \n",
       "9506 -34.225000  115.017000  \n",
       "9507  45.002343   -1.201475  \n",
       "9508  21.016700 -101.250000  \n",
       "9509  -8.710093  115.166845  \n",
       "9510  -8.710093  115.166845  \n",
       "\n",
       "[9511 rows x 9 columns]"
      ],
      "text/html": [
       "<div>\n",
       "<style scoped>\n",
       "    .dataframe tbody tr th:only-of-type {\n",
       "        vertical-align: middle;\n",
       "    }\n",
       "\n",
       "    .dataframe tbody tr th {\n",
       "        vertical-align: top;\n",
       "    }\n",
       "\n",
       "    .dataframe thead th {\n",
       "        text-align: right;\n",
       "    }\n",
       "</style>\n",
       "<table border=\"1\" class=\"dataframe\">\n",
       "  <thead>\n",
       "    <tr style=\"text-align: right;\">\n",
       "      <th></th>\n",
       "      <th>homename</th>\n",
       "      <th>homecontinent</th>\n",
       "      <th>homecountry</th>\n",
       "      <th>homelat</th>\n",
       "      <th>homelon</th>\n",
       "      <th>travelcontinent</th>\n",
       "      <th>travelcountry</th>\n",
       "      <th>travellat</th>\n",
       "      <th>travellon</th>\n",
       "    </tr>\n",
       "  </thead>\n",
       "  <tbody>\n",
       "    <tr>\n",
       "      <th>0</th>\n",
       "      <td>Canadian in La La Land</td>\n",
       "      <td>North America</td>\n",
       "      <td>United States of America</td>\n",
       "      <td>33.930030</td>\n",
       "      <td>-118.280993</td>\n",
       "      <td>North America</td>\n",
       "      <td>United States of America</td>\n",
       "      <td>33.887255</td>\n",
       "      <td>-118.411912</td>\n",
       "    </tr>\n",
       "    <tr>\n",
       "      <th>1</th>\n",
       "      <td>Canadian in La La Land</td>\n",
       "      <td>North America</td>\n",
       "      <td>United States of America</td>\n",
       "      <td>33.930030</td>\n",
       "      <td>-118.280993</td>\n",
       "      <td>North America</td>\n",
       "      <td>United States of America</td>\n",
       "      <td>34.022100</td>\n",
       "      <td>-118.481000</td>\n",
       "    </tr>\n",
       "    <tr>\n",
       "      <th>2</th>\n",
       "      <td>Canadian in La La Land</td>\n",
       "      <td>North America</td>\n",
       "      <td>United States of America</td>\n",
       "      <td>33.930030</td>\n",
       "      <td>-118.280993</td>\n",
       "      <td>North America</td>\n",
       "      <td>United States of America</td>\n",
       "      <td>34.030400</td>\n",
       "      <td>-118.779000</td>\n",
       "    </tr>\n",
       "    <tr>\n",
       "      <th>3</th>\n",
       "      <td>Canadian in La La Land</td>\n",
       "      <td>North America</td>\n",
       "      <td>United States of America</td>\n",
       "      <td>33.930030</td>\n",
       "      <td>-118.280993</td>\n",
       "      <td>North America</td>\n",
       "      <td>United States of America</td>\n",
       "      <td>33.887255</td>\n",
       "      <td>-118.411912</td>\n",
       "    </tr>\n",
       "    <tr>\n",
       "      <th>4</th>\n",
       "      <td>Canadian in La La Land</td>\n",
       "      <td>North America</td>\n",
       "      <td>United States of America</td>\n",
       "      <td>33.930030</td>\n",
       "      <td>-118.280993</td>\n",
       "      <td>North America</td>\n",
       "      <td>United States of America</td>\n",
       "      <td>33.888889</td>\n",
       "      <td>-118.405278</td>\n",
       "    </tr>\n",
       "    <tr>\n",
       "      <th>...</th>\n",
       "      <td>...</td>\n",
       "      <td>...</td>\n",
       "      <td>...</td>\n",
       "      <td>...</td>\n",
       "      <td>...</td>\n",
       "      <td>...</td>\n",
       "      <td>...</td>\n",
       "      <td>...</td>\n",
       "      <td>...</td>\n",
       "    </tr>\n",
       "    <tr>\n",
       "      <th>9506</th>\n",
       "      <td>Bridgetown, Western Australia</td>\n",
       "      <td>Australia</td>\n",
       "      <td>Australia</td>\n",
       "      <td>-33.954448</td>\n",
       "      <td>116.131214</td>\n",
       "      <td>Australia</td>\n",
       "      <td>Australia</td>\n",
       "      <td>-34.225000</td>\n",
       "      <td>115.017000</td>\n",
       "    </tr>\n",
       "    <tr>\n",
       "      <th>9507</th>\n",
       "      <td>Lille, France</td>\n",
       "      <td>Europe</td>\n",
       "      <td>France</td>\n",
       "      <td>50.629250</td>\n",
       "      <td>3.057256</td>\n",
       "      <td>Europe</td>\n",
       "      <td>France</td>\n",
       "      <td>45.002343</td>\n",
       "      <td>-1.201475</td>\n",
       "    </tr>\n",
       "    <tr>\n",
       "      <th>9508</th>\n",
       "      <td>MX</td>\n",
       "      <td>South America</td>\n",
       "      <td>Mexico</td>\n",
       "      <td>23.634501</td>\n",
       "      <td>-102.552784</td>\n",
       "      <td>South America</td>\n",
       "      <td>Mexico</td>\n",
       "      <td>21.016700</td>\n",
       "      <td>-101.250000</td>\n",
       "    </tr>\n",
       "    <tr>\n",
       "      <th>9509</th>\n",
       "      <td>Kuta - Bali - Indonesia</td>\n",
       "      <td>Asia</td>\n",
       "      <td>Indonesia</td>\n",
       "      <td>-8.739184</td>\n",
       "      <td>115.171130</td>\n",
       "      <td>Asia</td>\n",
       "      <td>Indonesia</td>\n",
       "      <td>-8.710093</td>\n",
       "      <td>115.166845</td>\n",
       "    </tr>\n",
       "    <tr>\n",
       "      <th>9510</th>\n",
       "      <td>Kuta - Bali - Indonesia</td>\n",
       "      <td>Asia</td>\n",
       "      <td>Indonesia</td>\n",
       "      <td>-8.739184</td>\n",
       "      <td>115.171130</td>\n",
       "      <td>Asia</td>\n",
       "      <td>Indonesia</td>\n",
       "      <td>-8.710093</td>\n",
       "      <td>115.166845</td>\n",
       "    </tr>\n",
       "  </tbody>\n",
       "</table>\n",
       "<p>9511 rows × 9 columns</p>\n",
       "</div>"
      ]
     },
     "execution_count": 3,
     "metadata": {},
     "output_type": "execute_result"
    }
   ],
   "execution_count": 3
  },
  {
   "metadata": {
    "ExecuteTime": {
     "end_time": "2025-07-02T19:33:45.349015Z",
     "start_time": "2025-07-02T19:33:45.342157Z"
    }
   },
   "cell_type": "code",
   "source": "df['homecountry'].unique()",
   "id": "daaec1090ddcf1a9",
   "outputs": [
    {
     "data": {
      "text/plain": [
       "array(['United States of America', 'France', 'Indonesia', 'Spain',\n",
       "       'United Kingdom', 'Philippines', 'Australia', 'Germany', 'Brazil',\n",
       "       'Ireland', 'Japan', 'Colombia', 'Morocco', 'Chile', 'Kuwait',\n",
       "       'Uruguay', 'Italy', 'South Korea', 'Venezuela', 'India', 'Peru',\n",
       "       'New Zealand', 'Mexico', 'Oman', 'Netherlands', 'Bangladesh',\n",
       "       'Kenya', 'Thailand', 'Switzerland', 'Argentina', 'Lebanon',\n",
       "       'Malaysia', 'Poland', 'Dominican Republic', 'Portugal', 'Jordan',\n",
       "       'Canada', 'Singapore', 'Costa Rica', 'United Arab Emirates',\n",
       "       'Uzbekistan', 'Qatar', 'Panama', 'Saint Barthelemy',\n",
       "       'South Africa', 'Ukraine', 'Greece', 'Norway', 'Turkey',\n",
       "       'French Polynesia', 'Slovenia', 'Guatemala', 'Taiwan', 'Nicaragua',\n",
       "       'Ecuador', 'Hong Kong S.A.R.', 'El Salvador', 'Paraguay', 'Russia',\n",
       "       'Namibia', 'Puerto Rico', 'Belgium', 'Nigeria', 'Jersey', 'Cuba',\n",
       "       'China', 'Uganda', 'Belarus', 'Sri Lanka', 'Romania', 'Slovakia',\n",
       "       'Sweden', 'Luxembourg', 'United States Virgin Islands', 'Fiji',\n",
       "       'Republic of Serbia', 'Barbados', 'Czech Republic', 'Andorra',\n",
       "       'Saudi Arabia', 'Pakistan', 'Finland', 'Croatia', 'Bahrain',\n",
       "       'Trinidad and Tobago', 'Grenada', 'Estonia', 'Lithuania', 'Israel',\n",
       "       'Nepal', 'Austria', 'Senegal', 'Isle of Man', 'Guernsey',\n",
       "       'Denmark', 'Latvia', 'Hungary', 'Seychelles', 'Sint Maarten',\n",
       "       'Egypt', 'Haiti'], dtype=object)"
      ]
     },
     "execution_count": 5,
     "metadata": {},
     "output_type": "execute_result"
    }
   ],
   "execution_count": 5
  },
  {
   "metadata": {
    "ExecuteTime": {
     "end_time": "2025-07-02T19:34:13.643766Z",
     "start_time": "2025-07-02T19:34:13.637680Z"
    }
   },
   "cell_type": "code",
   "source": "len(df['homecountry'].unique())",
   "id": "7bfc6c668966a0b5",
   "outputs": [
    {
     "data": {
      "text/plain": [
       "101"
      ]
     },
     "execution_count": 7,
     "metadata": {},
     "output_type": "execute_result"
    }
   ],
   "execution_count": 7
  },
  {
   "metadata": {
    "ExecuteTime": {
     "end_time": "2025-07-02T19:36:14.955794Z",
     "start_time": "2025-07-02T19:36:14.934773Z"
    }
   },
   "cell_type": "code",
   "source": [
    "agrupado=df.groupby('homecountry').agg({\n",
    "    'homename':'count'\n",
    "})\n",
    "agrupado"
   ],
   "id": "d1daf26e84c21fc6",
   "outputs": [
    {
     "data": {
      "text/plain": [
       "                              homename\n",
       "homecountry                           \n",
       "Andorra                              1\n",
       "Argentina                          143\n",
       "Australia                          809\n",
       "Austria                              3\n",
       "Bahrain                              2\n",
       "...                                ...\n",
       "United States Virgin Islands         2\n",
       "United States of America          2826\n",
       "Uruguay                             21\n",
       "Uzbekistan                           1\n",
       "Venezuela                           34\n",
       "\n",
       "[101 rows x 1 columns]"
      ],
      "text/html": [
       "<div>\n",
       "<style scoped>\n",
       "    .dataframe tbody tr th:only-of-type {\n",
       "        vertical-align: middle;\n",
       "    }\n",
       "\n",
       "    .dataframe tbody tr th {\n",
       "        vertical-align: top;\n",
       "    }\n",
       "\n",
       "    .dataframe thead th {\n",
       "        text-align: right;\n",
       "    }\n",
       "</style>\n",
       "<table border=\"1\" class=\"dataframe\">\n",
       "  <thead>\n",
       "    <tr style=\"text-align: right;\">\n",
       "      <th></th>\n",
       "      <th>homename</th>\n",
       "    </tr>\n",
       "    <tr>\n",
       "      <th>homecountry</th>\n",
       "      <th></th>\n",
       "    </tr>\n",
       "  </thead>\n",
       "  <tbody>\n",
       "    <tr>\n",
       "      <th>Andorra</th>\n",
       "      <td>1</td>\n",
       "    </tr>\n",
       "    <tr>\n",
       "      <th>Argentina</th>\n",
       "      <td>143</td>\n",
       "    </tr>\n",
       "    <tr>\n",
       "      <th>Australia</th>\n",
       "      <td>809</td>\n",
       "    </tr>\n",
       "    <tr>\n",
       "      <th>Austria</th>\n",
       "      <td>3</td>\n",
       "    </tr>\n",
       "    <tr>\n",
       "      <th>Bahrain</th>\n",
       "      <td>2</td>\n",
       "    </tr>\n",
       "    <tr>\n",
       "      <th>...</th>\n",
       "      <td>...</td>\n",
       "    </tr>\n",
       "    <tr>\n",
       "      <th>United States Virgin Islands</th>\n",
       "      <td>2</td>\n",
       "    </tr>\n",
       "    <tr>\n",
       "      <th>United States of America</th>\n",
       "      <td>2826</td>\n",
       "    </tr>\n",
       "    <tr>\n",
       "      <th>Uruguay</th>\n",
       "      <td>21</td>\n",
       "    </tr>\n",
       "    <tr>\n",
       "      <th>Uzbekistan</th>\n",
       "      <td>1</td>\n",
       "    </tr>\n",
       "    <tr>\n",
       "      <th>Venezuela</th>\n",
       "      <td>34</td>\n",
       "    </tr>\n",
       "  </tbody>\n",
       "</table>\n",
       "<p>101 rows × 1 columns</p>\n",
       "</div>"
      ]
     },
     "execution_count": 8,
     "metadata": {},
     "output_type": "execute_result"
    }
   ],
   "execution_count": 8
  },
  {
   "metadata": {
    "ExecuteTime": {
     "end_time": "2025-07-02T19:40:48.976668Z",
     "start_time": "2025-07-02T19:40:48.970491Z"
    }
   },
   "cell_type": "code",
   "source": [
    "Agrupado_ordenado=agrupado.sort_values('homename',ascending=False)\n",
    "Agrupado_ordenado"
   ],
   "id": "d08d3c107c96a5c0",
   "outputs": [
    {
     "data": {
      "text/plain": [
       "                          homename\n",
       "homecountry                       \n",
       "United States of America      2826\n",
       "Japan                          893\n",
       "Australia                      809\n",
       "Spain                          752\n",
       "United Kingdom                 496\n",
       "...                            ...\n",
       "Namibia                          1\n",
       "Nepal                            1\n",
       "Slovakia                         1\n",
       "Uganda                           1\n",
       "Uzbekistan                       1\n",
       "\n",
       "[101 rows x 1 columns]"
      ],
      "text/html": [
       "<div>\n",
       "<style scoped>\n",
       "    .dataframe tbody tr th:only-of-type {\n",
       "        vertical-align: middle;\n",
       "    }\n",
       "\n",
       "    .dataframe tbody tr th {\n",
       "        vertical-align: top;\n",
       "    }\n",
       "\n",
       "    .dataframe thead th {\n",
       "        text-align: right;\n",
       "    }\n",
       "</style>\n",
       "<table border=\"1\" class=\"dataframe\">\n",
       "  <thead>\n",
       "    <tr style=\"text-align: right;\">\n",
       "      <th></th>\n",
       "      <th>homename</th>\n",
       "    </tr>\n",
       "    <tr>\n",
       "      <th>homecountry</th>\n",
       "      <th></th>\n",
       "    </tr>\n",
       "  </thead>\n",
       "  <tbody>\n",
       "    <tr>\n",
       "      <th>United States of America</th>\n",
       "      <td>2826</td>\n",
       "    </tr>\n",
       "    <tr>\n",
       "      <th>Japan</th>\n",
       "      <td>893</td>\n",
       "    </tr>\n",
       "    <tr>\n",
       "      <th>Australia</th>\n",
       "      <td>809</td>\n",
       "    </tr>\n",
       "    <tr>\n",
       "      <th>Spain</th>\n",
       "      <td>752</td>\n",
       "    </tr>\n",
       "    <tr>\n",
       "      <th>United Kingdom</th>\n",
       "      <td>496</td>\n",
       "    </tr>\n",
       "    <tr>\n",
       "      <th>...</th>\n",
       "      <td>...</td>\n",
       "    </tr>\n",
       "    <tr>\n",
       "      <th>Namibia</th>\n",
       "      <td>1</td>\n",
       "    </tr>\n",
       "    <tr>\n",
       "      <th>Nepal</th>\n",
       "      <td>1</td>\n",
       "    </tr>\n",
       "    <tr>\n",
       "      <th>Slovakia</th>\n",
       "      <td>1</td>\n",
       "    </tr>\n",
       "    <tr>\n",
       "      <th>Uganda</th>\n",
       "      <td>1</td>\n",
       "    </tr>\n",
       "    <tr>\n",
       "      <th>Uzbekistan</th>\n",
       "      <td>1</td>\n",
       "    </tr>\n",
       "  </tbody>\n",
       "</table>\n",
       "<p>101 rows × 1 columns</p>\n",
       "</div>"
      ]
     },
     "execution_count": 20,
     "metadata": {},
     "output_type": "execute_result"
    }
   ],
   "execution_count": 20
  },
  {
   "metadata": {
    "ExecuteTime": {
     "end_time": "2025-07-02T19:39:49.957578Z",
     "start_time": "2025-07-02T19:39:49.950696Z"
    }
   },
   "cell_type": "code",
   "source": [
    "top_4=Agrupado_ordenado.head(4)\n",
    "top_4"
   ],
   "id": "c94118933e1fc613",
   "outputs": [
    {
     "data": {
      "text/plain": [
       "                          homename\n",
       "homecountry                       \n",
       "United States of America      2826\n",
       "Japan                          893\n",
       "Australia                      809\n",
       "Spain                          752"
      ],
      "text/html": [
       "<div>\n",
       "<style scoped>\n",
       "    .dataframe tbody tr th:only-of-type {\n",
       "        vertical-align: middle;\n",
       "    }\n",
       "\n",
       "    .dataframe tbody tr th {\n",
       "        vertical-align: top;\n",
       "    }\n",
       "\n",
       "    .dataframe thead th {\n",
       "        text-align: right;\n",
       "    }\n",
       "</style>\n",
       "<table border=\"1\" class=\"dataframe\">\n",
       "  <thead>\n",
       "    <tr style=\"text-align: right;\">\n",
       "      <th></th>\n",
       "      <th>homename</th>\n",
       "    </tr>\n",
       "    <tr>\n",
       "      <th>homecountry</th>\n",
       "      <th></th>\n",
       "    </tr>\n",
       "  </thead>\n",
       "  <tbody>\n",
       "    <tr>\n",
       "      <th>United States of America</th>\n",
       "      <td>2826</td>\n",
       "    </tr>\n",
       "    <tr>\n",
       "      <th>Japan</th>\n",
       "      <td>893</td>\n",
       "    </tr>\n",
       "    <tr>\n",
       "      <th>Australia</th>\n",
       "      <td>809</td>\n",
       "    </tr>\n",
       "    <tr>\n",
       "      <th>Spain</th>\n",
       "      <td>752</td>\n",
       "    </tr>\n",
       "  </tbody>\n",
       "</table>\n",
       "</div>"
      ]
     },
     "execution_count": 18,
     "metadata": {},
     "output_type": "execute_result"
    }
   ],
   "execution_count": 18
  },
  {
   "metadata": {
    "ExecuteTime": {
     "end_time": "2025-07-02T19:41:11.237594Z",
     "start_time": "2025-07-02T19:41:11.228605Z"
    }
   },
   "cell_type": "code",
   "source": [
    "df_otros= Agrupado_ordenado.drop(index=top_4.index.values)\n",
    "df_otros"
   ],
   "id": "e015b5d5d6a4b3a0",
   "outputs": [
    {
     "data": {
      "text/plain": [
       "                homename\n",
       "homecountry             \n",
       "United Kingdom       496\n",
       "France               433\n",
       "Brazil               379\n",
       "Portugal             367\n",
       "Italy                295\n",
       "...                  ...\n",
       "Namibia                1\n",
       "Nepal                  1\n",
       "Slovakia               1\n",
       "Uganda                 1\n",
       "Uzbekistan             1\n",
       "\n",
       "[97 rows x 1 columns]"
      ],
      "text/html": [
       "<div>\n",
       "<style scoped>\n",
       "    .dataframe tbody tr th:only-of-type {\n",
       "        vertical-align: middle;\n",
       "    }\n",
       "\n",
       "    .dataframe tbody tr th {\n",
       "        vertical-align: top;\n",
       "    }\n",
       "\n",
       "    .dataframe thead th {\n",
       "        text-align: right;\n",
       "    }\n",
       "</style>\n",
       "<table border=\"1\" class=\"dataframe\">\n",
       "  <thead>\n",
       "    <tr style=\"text-align: right;\">\n",
       "      <th></th>\n",
       "      <th>homename</th>\n",
       "    </tr>\n",
       "    <tr>\n",
       "      <th>homecountry</th>\n",
       "      <th></th>\n",
       "    </tr>\n",
       "  </thead>\n",
       "  <tbody>\n",
       "    <tr>\n",
       "      <th>United Kingdom</th>\n",
       "      <td>496</td>\n",
       "    </tr>\n",
       "    <tr>\n",
       "      <th>France</th>\n",
       "      <td>433</td>\n",
       "    </tr>\n",
       "    <tr>\n",
       "      <th>Brazil</th>\n",
       "      <td>379</td>\n",
       "    </tr>\n",
       "    <tr>\n",
       "      <th>Portugal</th>\n",
       "      <td>367</td>\n",
       "    </tr>\n",
       "    <tr>\n",
       "      <th>Italy</th>\n",
       "      <td>295</td>\n",
       "    </tr>\n",
       "    <tr>\n",
       "      <th>...</th>\n",
       "      <td>...</td>\n",
       "    </tr>\n",
       "    <tr>\n",
       "      <th>Namibia</th>\n",
       "      <td>1</td>\n",
       "    </tr>\n",
       "    <tr>\n",
       "      <th>Nepal</th>\n",
       "      <td>1</td>\n",
       "    </tr>\n",
       "    <tr>\n",
       "      <th>Slovakia</th>\n",
       "      <td>1</td>\n",
       "    </tr>\n",
       "    <tr>\n",
       "      <th>Uganda</th>\n",
       "      <td>1</td>\n",
       "    </tr>\n",
       "    <tr>\n",
       "      <th>Uzbekistan</th>\n",
       "      <td>1</td>\n",
       "    </tr>\n",
       "  </tbody>\n",
       "</table>\n",
       "<p>97 rows × 1 columns</p>\n",
       "</div>"
      ]
     },
     "execution_count": 23,
     "metadata": {},
     "output_type": "execute_result"
    }
   ],
   "execution_count": 23
  },
  {
   "metadata": {
    "ExecuteTime": {
     "end_time": "2025-07-02T19:41:47.337729Z",
     "start_time": "2025-07-02T19:41:47.327507Z"
    }
   },
   "cell_type": "code",
   "source": [
    "df_otros['pais']='otros'\n",
    "df_otros"
   ],
   "id": "eedb2b4942fab295",
   "outputs": [
    {
     "data": {
      "text/plain": [
       "                homename   pais\n",
       "homecountry                    \n",
       "United Kingdom       496  otros\n",
       "France               433  otros\n",
       "Brazil               379  otros\n",
       "Portugal             367  otros\n",
       "Italy                295  otros\n",
       "...                  ...    ...\n",
       "Namibia                1  otros\n",
       "Nepal                  1  otros\n",
       "Slovakia               1  otros\n",
       "Uganda                 1  otros\n",
       "Uzbekistan             1  otros\n",
       "\n",
       "[97 rows x 2 columns]"
      ],
      "text/html": [
       "<div>\n",
       "<style scoped>\n",
       "    .dataframe tbody tr th:only-of-type {\n",
       "        vertical-align: middle;\n",
       "    }\n",
       "\n",
       "    .dataframe tbody tr th {\n",
       "        vertical-align: top;\n",
       "    }\n",
       "\n",
       "    .dataframe thead th {\n",
       "        text-align: right;\n",
       "    }\n",
       "</style>\n",
       "<table border=\"1\" class=\"dataframe\">\n",
       "  <thead>\n",
       "    <tr style=\"text-align: right;\">\n",
       "      <th></th>\n",
       "      <th>homename</th>\n",
       "      <th>pais</th>\n",
       "    </tr>\n",
       "    <tr>\n",
       "      <th>homecountry</th>\n",
       "      <th></th>\n",
       "      <th></th>\n",
       "    </tr>\n",
       "  </thead>\n",
       "  <tbody>\n",
       "    <tr>\n",
       "      <th>United Kingdom</th>\n",
       "      <td>496</td>\n",
       "      <td>otros</td>\n",
       "    </tr>\n",
       "    <tr>\n",
       "      <th>France</th>\n",
       "      <td>433</td>\n",
       "      <td>otros</td>\n",
       "    </tr>\n",
       "    <tr>\n",
       "      <th>Brazil</th>\n",
       "      <td>379</td>\n",
       "      <td>otros</td>\n",
       "    </tr>\n",
       "    <tr>\n",
       "      <th>Portugal</th>\n",
       "      <td>367</td>\n",
       "      <td>otros</td>\n",
       "    </tr>\n",
       "    <tr>\n",
       "      <th>Italy</th>\n",
       "      <td>295</td>\n",
       "      <td>otros</td>\n",
       "    </tr>\n",
       "    <tr>\n",
       "      <th>...</th>\n",
       "      <td>...</td>\n",
       "      <td>...</td>\n",
       "    </tr>\n",
       "    <tr>\n",
       "      <th>Namibia</th>\n",
       "      <td>1</td>\n",
       "      <td>otros</td>\n",
       "    </tr>\n",
       "    <tr>\n",
       "      <th>Nepal</th>\n",
       "      <td>1</td>\n",
       "      <td>otros</td>\n",
       "    </tr>\n",
       "    <tr>\n",
       "      <th>Slovakia</th>\n",
       "      <td>1</td>\n",
       "      <td>otros</td>\n",
       "    </tr>\n",
       "    <tr>\n",
       "      <th>Uganda</th>\n",
       "      <td>1</td>\n",
       "      <td>otros</td>\n",
       "    </tr>\n",
       "    <tr>\n",
       "      <th>Uzbekistan</th>\n",
       "      <td>1</td>\n",
       "      <td>otros</td>\n",
       "    </tr>\n",
       "  </tbody>\n",
       "</table>\n",
       "<p>97 rows × 2 columns</p>\n",
       "</div>"
      ]
     },
     "execution_count": 24,
     "metadata": {},
     "output_type": "execute_result"
    }
   ],
   "execution_count": 24
  },
  {
   "metadata": {
    "ExecuteTime": {
     "end_time": "2025-07-02T19:43:05.919473Z",
     "start_time": "2025-07-02T19:43:05.911316Z"
    }
   },
   "cell_type": "code",
   "source": [
    "df_otros_agrupado= df_otros.groupby('pais').agg({\n",
    "    'homename':'sum'\n",
    "})\n",
    "df_otros_agrupado"
   ],
   "id": "a39ad4643ef5c422",
   "outputs": [
    {
     "data": {
      "text/plain": [
       "       homename\n",
       "pais           \n",
       "otros      4231"
      ],
      "text/html": [
       "<div>\n",
       "<style scoped>\n",
       "    .dataframe tbody tr th:only-of-type {\n",
       "        vertical-align: middle;\n",
       "    }\n",
       "\n",
       "    .dataframe tbody tr th {\n",
       "        vertical-align: top;\n",
       "    }\n",
       "\n",
       "    .dataframe thead th {\n",
       "        text-align: right;\n",
       "    }\n",
       "</style>\n",
       "<table border=\"1\" class=\"dataframe\">\n",
       "  <thead>\n",
       "    <tr style=\"text-align: right;\">\n",
       "      <th></th>\n",
       "      <th>homename</th>\n",
       "    </tr>\n",
       "    <tr>\n",
       "      <th>pais</th>\n",
       "      <th></th>\n",
       "    </tr>\n",
       "  </thead>\n",
       "  <tbody>\n",
       "    <tr>\n",
       "      <th>otros</th>\n",
       "      <td>4231</td>\n",
       "    </tr>\n",
       "  </tbody>\n",
       "</table>\n",
       "</div>"
      ]
     },
     "execution_count": 27,
     "metadata": {},
     "output_type": "execute_result"
    }
   ],
   "execution_count": 27
  },
  {
   "metadata": {
    "ExecuteTime": {
     "end_time": "2025-07-02T19:43:55.701343Z",
     "start_time": "2025-07-02T19:43:55.695380Z"
    }
   },
   "cell_type": "code",
   "source": [
    "df_otros_agrupado=df_otros_agrupado.reset_index()\n",
    "df_otros_agrupado"
   ],
   "id": "cf31b458c88eea6d",
   "outputs": [
    {
     "data": {
      "text/plain": [
       "    pais  homename\n",
       "0  otros      4231"
      ],
      "text/html": [
       "<div>\n",
       "<style scoped>\n",
       "    .dataframe tbody tr th:only-of-type {\n",
       "        vertical-align: middle;\n",
       "    }\n",
       "\n",
       "    .dataframe tbody tr th {\n",
       "        vertical-align: top;\n",
       "    }\n",
       "\n",
       "    .dataframe thead th {\n",
       "        text-align: right;\n",
       "    }\n",
       "</style>\n",
       "<table border=\"1\" class=\"dataframe\">\n",
       "  <thead>\n",
       "    <tr style=\"text-align: right;\">\n",
       "      <th></th>\n",
       "      <th>pais</th>\n",
       "      <th>homename</th>\n",
       "    </tr>\n",
       "  </thead>\n",
       "  <tbody>\n",
       "    <tr>\n",
       "      <th>0</th>\n",
       "      <td>otros</td>\n",
       "      <td>4231</td>\n",
       "    </tr>\n",
       "  </tbody>\n",
       "</table>\n",
       "</div>"
      ]
     },
     "execution_count": 28,
     "metadata": {},
     "output_type": "execute_result"
    }
   ],
   "execution_count": 28
  },
  {
   "metadata": {
    "ExecuteTime": {
     "end_time": "2025-07-02T19:45:11.279183Z",
     "start_time": "2025-07-02T19:45:11.271014Z"
    }
   },
   "cell_type": "code",
   "source": [
    "top_4=top_4.reset_index()\n",
    "top_4"
   ],
   "id": "219a22e8b1b5c211",
   "outputs": [
    {
     "data": {
      "text/plain": [
       "                homecountry  homename\n",
       "0  United States of America      2826\n",
       "1                     Japan       893\n",
       "2                 Australia       809\n",
       "3                     Spain       752"
      ],
      "text/html": [
       "<div>\n",
       "<style scoped>\n",
       "    .dataframe tbody tr th:only-of-type {\n",
       "        vertical-align: middle;\n",
       "    }\n",
       "\n",
       "    .dataframe tbody tr th {\n",
       "        vertical-align: top;\n",
       "    }\n",
       "\n",
       "    .dataframe thead th {\n",
       "        text-align: right;\n",
       "    }\n",
       "</style>\n",
       "<table border=\"1\" class=\"dataframe\">\n",
       "  <thead>\n",
       "    <tr style=\"text-align: right;\">\n",
       "      <th></th>\n",
       "      <th>homecountry</th>\n",
       "      <th>homename</th>\n",
       "    </tr>\n",
       "  </thead>\n",
       "  <tbody>\n",
       "    <tr>\n",
       "      <th>0</th>\n",
       "      <td>United States of America</td>\n",
       "      <td>2826</td>\n",
       "    </tr>\n",
       "    <tr>\n",
       "      <th>1</th>\n",
       "      <td>Japan</td>\n",
       "      <td>893</td>\n",
       "    </tr>\n",
       "    <tr>\n",
       "      <th>2</th>\n",
       "      <td>Australia</td>\n",
       "      <td>809</td>\n",
       "    </tr>\n",
       "    <tr>\n",
       "      <th>3</th>\n",
       "      <td>Spain</td>\n",
       "      <td>752</td>\n",
       "    </tr>\n",
       "  </tbody>\n",
       "</table>\n",
       "</div>"
      ]
     },
     "execution_count": 31,
     "metadata": {},
     "output_type": "execute_result"
    }
   ],
   "execution_count": 31
  },
  {
   "metadata": {
    "ExecuteTime": {
     "end_time": "2025-07-02T19:46:37.893371Z",
     "start_time": "2025-07-02T19:46:37.886826Z"
    }
   },
   "cell_type": "code",
   "source": [
    "top_4.columns=['Pais', 'homename']\n",
    "top_4"
   ],
   "id": "f3804df330e6fe73",
   "outputs": [
    {
     "data": {
      "text/plain": [
       "                       Pais  homename\n",
       "0  United States of America      2826\n",
       "1                     Japan       893\n",
       "2                 Australia       809\n",
       "3                     Spain       752"
      ],
      "text/html": [
       "<div>\n",
       "<style scoped>\n",
       "    .dataframe tbody tr th:only-of-type {\n",
       "        vertical-align: middle;\n",
       "    }\n",
       "\n",
       "    .dataframe tbody tr th {\n",
       "        vertical-align: top;\n",
       "    }\n",
       "\n",
       "    .dataframe thead th {\n",
       "        text-align: right;\n",
       "    }\n",
       "</style>\n",
       "<table border=\"1\" class=\"dataframe\">\n",
       "  <thead>\n",
       "    <tr style=\"text-align: right;\">\n",
       "      <th></th>\n",
       "      <th>Pais</th>\n",
       "      <th>homename</th>\n",
       "    </tr>\n",
       "  </thead>\n",
       "  <tbody>\n",
       "    <tr>\n",
       "      <th>0</th>\n",
       "      <td>United States of America</td>\n",
       "      <td>2826</td>\n",
       "    </tr>\n",
       "    <tr>\n",
       "      <th>1</th>\n",
       "      <td>Japan</td>\n",
       "      <td>893</td>\n",
       "    </tr>\n",
       "    <tr>\n",
       "      <th>2</th>\n",
       "      <td>Australia</td>\n",
       "      <td>809</td>\n",
       "    </tr>\n",
       "    <tr>\n",
       "      <th>3</th>\n",
       "      <td>Spain</td>\n",
       "      <td>752</td>\n",
       "    </tr>\n",
       "  </tbody>\n",
       "</table>\n",
       "</div>"
      ]
     },
     "execution_count": 32,
     "metadata": {},
     "output_type": "execute_result"
    }
   ],
   "execution_count": 32
  },
  {
   "metadata": {
    "ExecuteTime": {
     "end_time": "2025-07-02T19:47:26.986474Z",
     "start_time": "2025-07-02T19:47:26.978496Z"
    }
   },
   "cell_type": "code",
   "source": [
    "df_final=pd.concat([top_4, df_otros_agrupado])\n",
    "df_final"
   ],
   "id": "5ab7a0e4b70e5ed6",
   "outputs": [
    {
     "data": {
      "text/plain": [
       "                       Pais  homename   pais\n",
       "0  United States of America      2826    NaN\n",
       "1                     Japan       893    NaN\n",
       "2                 Australia       809    NaN\n",
       "3                     Spain       752    NaN\n",
       "0                       NaN      4231  otros"
      ],
      "text/html": [
       "<div>\n",
       "<style scoped>\n",
       "    .dataframe tbody tr th:only-of-type {\n",
       "        vertical-align: middle;\n",
       "    }\n",
       "\n",
       "    .dataframe tbody tr th {\n",
       "        vertical-align: top;\n",
       "    }\n",
       "\n",
       "    .dataframe thead th {\n",
       "        text-align: right;\n",
       "    }\n",
       "</style>\n",
       "<table border=\"1\" class=\"dataframe\">\n",
       "  <thead>\n",
       "    <tr style=\"text-align: right;\">\n",
       "      <th></th>\n",
       "      <th>Pais</th>\n",
       "      <th>homename</th>\n",
       "      <th>pais</th>\n",
       "    </tr>\n",
       "  </thead>\n",
       "  <tbody>\n",
       "    <tr>\n",
       "      <th>0</th>\n",
       "      <td>United States of America</td>\n",
       "      <td>2826</td>\n",
       "      <td>NaN</td>\n",
       "    </tr>\n",
       "    <tr>\n",
       "      <th>1</th>\n",
       "      <td>Japan</td>\n",
       "      <td>893</td>\n",
       "      <td>NaN</td>\n",
       "    </tr>\n",
       "    <tr>\n",
       "      <th>2</th>\n",
       "      <td>Australia</td>\n",
       "      <td>809</td>\n",
       "      <td>NaN</td>\n",
       "    </tr>\n",
       "    <tr>\n",
       "      <th>3</th>\n",
       "      <td>Spain</td>\n",
       "      <td>752</td>\n",
       "      <td>NaN</td>\n",
       "    </tr>\n",
       "    <tr>\n",
       "      <th>0</th>\n",
       "      <td>NaN</td>\n",
       "      <td>4231</td>\n",
       "      <td>otros</td>\n",
       "    </tr>\n",
       "  </tbody>\n",
       "</table>\n",
       "</div>"
      ]
     },
     "execution_count": 34,
     "metadata": {},
     "output_type": "execute_result"
    }
   ],
   "execution_count": 34
  },
  {
   "metadata": {
    "ExecuteTime": {
     "end_time": "2025-07-02T19:47:59.097351Z",
     "start_time": "2025-07-02T19:47:59.089498Z"
    }
   },
   "cell_type": "code",
   "source": [
    "df_final.set_index('pais')\n",
    "df_final"
   ],
   "id": "f97f2c5484375e79",
   "outputs": [
    {
     "data": {
      "text/plain": [
       "                       Pais  homename   pais\n",
       "0  United States of America      2826    NaN\n",
       "1                     Japan       893    NaN\n",
       "2                 Australia       809    NaN\n",
       "3                     Spain       752    NaN\n",
       "0                       NaN      4231  otros"
      ],
      "text/html": [
       "<div>\n",
       "<style scoped>\n",
       "    .dataframe tbody tr th:only-of-type {\n",
       "        vertical-align: middle;\n",
       "    }\n",
       "\n",
       "    .dataframe tbody tr th {\n",
       "        vertical-align: top;\n",
       "    }\n",
       "\n",
       "    .dataframe thead th {\n",
       "        text-align: right;\n",
       "    }\n",
       "</style>\n",
       "<table border=\"1\" class=\"dataframe\">\n",
       "  <thead>\n",
       "    <tr style=\"text-align: right;\">\n",
       "      <th></th>\n",
       "      <th>Pais</th>\n",
       "      <th>homename</th>\n",
       "      <th>pais</th>\n",
       "    </tr>\n",
       "  </thead>\n",
       "  <tbody>\n",
       "    <tr>\n",
       "      <th>0</th>\n",
       "      <td>United States of America</td>\n",
       "      <td>2826</td>\n",
       "      <td>NaN</td>\n",
       "    </tr>\n",
       "    <tr>\n",
       "      <th>1</th>\n",
       "      <td>Japan</td>\n",
       "      <td>893</td>\n",
       "      <td>NaN</td>\n",
       "    </tr>\n",
       "    <tr>\n",
       "      <th>2</th>\n",
       "      <td>Australia</td>\n",
       "      <td>809</td>\n",
       "      <td>NaN</td>\n",
       "    </tr>\n",
       "    <tr>\n",
       "      <th>3</th>\n",
       "      <td>Spain</td>\n",
       "      <td>752</td>\n",
       "      <td>NaN</td>\n",
       "    </tr>\n",
       "    <tr>\n",
       "      <th>0</th>\n",
       "      <td>NaN</td>\n",
       "      <td>4231</td>\n",
       "      <td>otros</td>\n",
       "    </tr>\n",
       "  </tbody>\n",
       "</table>\n",
       "</div>"
      ]
     },
     "execution_count": 35,
     "metadata": {},
     "output_type": "execute_result"
    }
   ],
   "execution_count": 35
  },
  {
   "metadata": {
    "ExecuteTime": {
     "end_time": "2025-07-02T19:52:45.703965Z",
     "start_time": "2025-07-02T19:52:45.599492Z"
    }
   },
   "cell_type": "code",
   "source": [
    "df_final.plot.pie(\n",
    "    y='homename',\n",
    "    startangle=90,\n",
    "    #autopct='%1.1f%%',\n",
    "\n",
    ")"
   ],
   "id": "8a50a3caf63464d4",
   "outputs": [
    {
     "data": {
      "text/plain": [
       "<Axes: ylabel='homename'>"
      ]
     },
     "execution_count": 44,
     "metadata": {},
     "output_type": "execute_result"
    },
    {
     "data": {
      "text/plain": [
       "<Figure size 640x480 with 1 Axes>"
      ],
      "image/png": "[encoded data removed]"
     },
     "metadata": {},
     "output_type": "display_data"
    }
   ],
   "execution_count": 44
  }
 ],
 "metadata": {
  "kernelspec": {
   "display_name": "Python 3",
   "language": "python",
   "name": "python3"
  },
  "language_info": {
   "codemirror_mode": {
    "name": "ipython",
    "version": 2
   },
   "file_extension": ".py",
   "mimetype": "text/x-python",
   "name": "python",
   "nbconvert_exporter": "python",
   "pygments_lexer": "ipython2",
   "version": "2.7.6"
  }
 },
 "nbformat": 4,
 "nbformat_minor": 5
}
