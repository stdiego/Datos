{
 "cells": [
  {
   "cell_type": "code",
   "id": "initial_id",
   "metadata": {
    "collapsed": true,
    "ExecuteTime": {
     "end_time": "2025-07-02T15:09:31.212615Z",
     "start_time": "2025-07-02T15:09:31.209148Z"
    }
   },
   "source": [
    "import pandas as pd\n",
    "from matplotlib.pyplot import legend"
   ],
   "outputs": [],
   "execution_count": 4
  },
  {
   "metadata": {
    "ExecuteTime": {
     "end_time": "2025-07-02T15:09:32.579712Z",
     "start_time": "2025-07-02T15:09:32.540401Z"
    }
   },
   "cell_type": "code",
   "source": [
    "from matplotlib.lines import lineStyles\n",
    "\n",
    "df = pd.read_csv('C:/Users/diego/Desktop/cursos/tiendas_procesado.csv', index_col='fecha')\n",
    "df"
   ],
   "id": "e3503cf9debddc29",
   "outputs": [
    {
     "data": {
      "text/plain": [
       "             DAIRY          MEATS       SEAFOOD\n",
       "fecha                                          \n",
       "2015-01  1134521.0  543117.728891  40465.835012\n",
       "2015-02  1020747.0  498735.076839  36066.561003\n",
       "2015-03  1234851.0  546517.159221  43808.473074\n",
       "2015-04  1181180.0  522304.280744  39983.471003\n",
       "2015-05  1293308.0  591691.899734  42506.832015\n",
       "2015-06  1243588.0  565014.130035  38780.552004\n",
       "2015-07  1244815.0  594903.677368  38535.588006\n",
       "2015-08  1263428.0  581214.143026  37767.580998\n",
       "2015-09  1224619.0  562711.633157  41906.374010\n",
       "2015-10  1314827.0  580788.361242  41423.962963\n",
       "2015-11  1283672.0  535908.927954  38823.761011\n",
       "2015-12  1394582.0  567381.391078  33728.276973"
      ],
      "text/html": [
       "<div>\n",
       "<style scoped>\n",
       "    .dataframe tbody tr th:only-of-type {\n",
       "        vertical-align: middle;\n",
       "    }\n",
       "\n",
       "    .dataframe tbody tr th {\n",
       "        vertical-align: top;\n",
       "    }\n",
       "\n",
       "    .dataframe thead th {\n",
       "        text-align: right;\n",
       "    }\n",
       "</style>\n",
       "<table border=\"1\" class=\"dataframe\">\n",
       "  <thead>\n",
       "    <tr style=\"text-align: right;\">\n",
       "      <th></th>\n",
       "      <th>DAIRY</th>\n",
       "      <th>MEATS</th>\n",
       "      <th>SEAFOOD</th>\n",
       "    </tr>\n",
       "    <tr>\n",
       "      <th>fecha</th>\n",
       "      <th></th>\n",
       "      <th></th>\n",
       "      <th></th>\n",
       "    </tr>\n",
       "  </thead>\n",
       "  <tbody>\n",
       "    <tr>\n",
       "      <th>2015-01</th>\n",
       "      <td>1134521.0</td>\n",
       "      <td>543117.728891</td>\n",
       "      <td>40465.835012</td>\n",
       "    </tr>\n",
       "    <tr>\n",
       "      <th>2015-02</th>\n",
       "      <td>1020747.0</td>\n",
       "      <td>498735.076839</td>\n",
       "      <td>36066.561003</td>\n",
       "    </tr>\n",
       "    <tr>\n",
       "      <th>2015-03</th>\n",
       "      <td>1234851.0</td>\n",
       "      <td>546517.159221</td>\n",
       "      <td>43808.473074</td>\n",
       "    </tr>\n",
       "    <tr>\n",
       "      <th>2015-04</th>\n",
       "      <td>1181180.0</td>\n",
       "      <td>522304.280744</td>\n",
       "      <td>39983.471003</td>\n",
       "    </tr>\n",
       "    <tr>\n",
       "      <th>2015-05</th>\n",
       "      <td>1293308.0</td>\n",
       "      <td>591691.899734</td>\n",
       "      <td>42506.832015</td>\n",
       "    </tr>\n",
       "    <tr>\n",
       "      <th>2015-06</th>\n",
       "      <td>1243588.0</td>\n",
       "      <td>565014.130035</td>\n",
       "      <td>38780.552004</td>\n",
       "    </tr>\n",
       "    <tr>\n",
       "      <th>2015-07</th>\n",
       "      <td>1244815.0</td>\n",
       "      <td>594903.677368</td>\n",
       "      <td>38535.588006</td>\n",
       "    </tr>\n",
       "    <tr>\n",
       "      <th>2015-08</th>\n",
       "      <td>1263428.0</td>\n",
       "      <td>581214.143026</td>\n",
       "      <td>37767.580998</td>\n",
       "    </tr>\n",
       "    <tr>\n",
       "      <th>2015-09</th>\n",
       "      <td>1224619.0</td>\n",
       "      <td>562711.633157</td>\n",
       "      <td>41906.374010</td>\n",
       "    </tr>\n",
       "    <tr>\n",
       "      <th>2015-10</th>\n",
       "      <td>1314827.0</td>\n",
       "      <td>580788.361242</td>\n",
       "      <td>41423.962963</td>\n",
       "    </tr>\n",
       "    <tr>\n",
       "      <th>2015-11</th>\n",
       "      <td>1283672.0</td>\n",
       "      <td>535908.927954</td>\n",
       "      <td>38823.761011</td>\n",
       "    </tr>\n",
       "    <tr>\n",
       "      <th>2015-12</th>\n",
       "      <td>1394582.0</td>\n",
       "      <td>567381.391078</td>\n",
       "      <td>33728.276973</td>\n",
       "    </tr>\n",
       "  </tbody>\n",
       "</table>\n",
       "</div>"
      ]
     },
     "execution_count": 5,
     "metadata": {},
     "output_type": "execute_result"
    }
   ],
   "execution_count": 5
  },
  {
   "metadata": {
    "ExecuteTime": {
     "end_time": "2025-07-02T15:09:37.670678Z",
     "start_time": "2025-07-02T15:09:37.667087Z"
    }
   },
   "cell_type": "code",
   "source": [
    "import matplotlib.pyplot as plt\n",
    "import numpy as np"
   ],
   "id": "9db11df4fd205eaf",
   "outputs": [],
   "execution_count": 6
  },
  {
   "metadata": {
    "ExecuteTime": {
     "end_time": "2025-07-02T15:09:41.086073Z",
     "start_time": "2025-07-02T15:09:41.079821Z"
    }
   },
   "cell_type": "code",
   "source": [
    "posiciones_ticks=np.arange(0,len(df))\n",
    "posiciones_ticks\n",
    "posiciones_ticks[::2]"
   ],
   "id": "ff4190ad7a4661b7",
   "outputs": [
    {
     "data": {
      "text/plain": [
       "array([ 0,  2,  4,  6,  8, 10])"
      ]
     },
     "execution_count": 7,
     "metadata": {},
     "output_type": "execute_result"
    }
   ],
   "execution_count": 7
  },
  {
   "metadata": {
    "ExecuteTime": {
     "end_time": "2025-07-02T17:11:29.377068Z",
     "start_time": "2025-07-02T17:11:29.203983Z"
    }
   },
   "cell_type": "code",
   "source": [
    "plt.style.use('ggplot')\n",
    "ax=df.plot.line(\n",
    "    figsize=(10,5),\n",
    "    title='Ejercicio 7'\n",
    "\n",
    ")\n",
    "ax.set_title(\n",
    "    'Ejercicio 7',\n",
    "    fontdict={\n",
    "        'name':'Comic Sans MS',\n",
    "        'color':'blue',\n",
    "        'size':20,\n",
    "}\n",
    ")\n",
    "\n",
    "ax.set_xticks(\n",
    "    posiciones_ticks[::3],\n",
    ")\n",
    "\n",
    "ax.set_xticklabels(\n",
    "    df.index.values[::3],\n",
    "    rotation=90,\n",
    "    fontdict={\n",
    "        'name':'Comic Sans MS',\n",
    "        'color':'blue',\n",
    "        'size':20,\n",
    "    }\n",
    ")\n",
    "ax.set_xlabel(\n",
    "    'Periodo',\n",
    "    loc='center',\n",
    "\n",
    ")\n",
    "ax.set_yticks(\n",
    "    [500000, 1000000]\n",
    ")\n",
    "ax.set_yticklabels(\n",
    "    ['Medio Millon', 'Millon']\n",
    ")\n",
    "ax.set_ylabel(\n",
    "    'Ventas en millones de dolares',\n",
    "    #loc='center',\n",
    "    fontdict={\n",
    "        'name':'Comic Sans MS',\n",
    "        'color':'blue',\n",
    "        'size':20,\n",
    "    }\n",
    ")\n",
    "plt.yticks(\n",
    "    color='green',\n",
    "\n",
    ")\n",
    "ax.annotate(\n",
    "    'Mes11',\n",
    "    xy=(10, 1250000),\n",
    "    xytext=(10, 1000000),\n",
    "    color='green',\n",
    "    horizontalalignment='center',\n",
    "    arrowprops={\n",
    "        'width': 1,\n",
    "        'color': 'black',\n",
    "        'headwidth': 5,\n",
    "        'headlength': 5,\n",
    "    }\n",
    "\n",
    ")\n",
    "ax.axhline(\n",
    "    1250000,\n",
    "    linestyle='--',\n",
    "    linewidth=1,\n",
    "    alpha=0.5,\n",
    "    color='red',\n",
    ")\n",
    "ax.annotate(\n",
    "    'Umbral maximo',\n",
    "    xy=(11,1250000),\n",
    "    horizontalalignment='center',\n",
    "    color='red',\n",
    "    fontstyle='italic',\n",
    "    alpha=0.5,\n",
    ")\n",
    "ax.legend(\n",
    "    title='Ejercicio 7',\n",
    "    labels=['Lacteos', 'Carnes', 'Comida de mar'],\n",
    "    fontsize=11,\n",
    "    loc='upper left',\n",
    "    bbox_to_anchor=(0.2, -0.35),\n",
    "    labelcolor=['red','green','blue'],\n",
    "    ncol=3\n",
    ")\n"
   ],
   "id": "34e5ec906ac9ae60",
   "outputs": [
    {
     "data": {
      "text/plain": [
       "<matplotlib.legend.Legend at 0x23f942b9f90>"
      ]
     },
     "execution_count": 99,
     "metadata": {},
     "output_type": "execute_result"
    },
    {
     "data": {
      "text/plain": [
       "<Figure size 1000x500 with 1 Axes>"
      ],
      "image/png": "[encoded data removed]"
     },
     "metadata": {},
     "output_type": "display_data"
    }
   ],
   "execution_count": 99
  },
  {
   "metadata": {
    "ExecuteTime": {
     "end_time": "2025-07-02T17:13:40.397781Z",
     "start_time": "2025-07-02T17:13:40.395068Z"
    }
   },
   "cell_type": "code",
   "source": "import  seaborn as sns",
   "id": "10c801d433ba9164",
   "outputs": [],
   "execution_count": 105
  },
  {
   "metadata": {
    "ExecuteTime": {
     "end_time": "2025-07-02T17:13:46.279626Z",
     "start_time": "2025-07-02T17:13:46.088925Z"
    }
   },
   "cell_type": "code",
   "source": [
    "plt.figure(\n",
    "    figsize = (8,4),\n",
    ")\n",
    "sns.set_style('darkgrid')\n",
    "sns.set_theme('paper')\n",
    "ax=sns.lineplot(\n",
    "    data=df\n",
    ")\n",
    "plt.title('Ejercicio 7')\n",
    "plt.xlabel('Fecha')\n",
    "plt.ylabel('Ventas en millones de dolares')\n",
    "ax=sns.lineplot(\n",
    "    data=df\n",
    ")\n",
    "ax.set(\n",
    "    xlabel='Fecha',\n",
    "    ylabel='Ventas en millones de dolares',\n",
    "    title='Ejercicio 7'\n",
    ")\n",
    "ax.set_xticks(\n",
    "    posiciones_ticks[::3],\n",
    ")\n",
    "ax.set_xticklabels(\n",
    "    df.index.values[::3],\n",
    ")\n",
    "ax.legend().set_visible(False)"
   ],
   "id": "5e170ba16e9ce01a",
   "outputs": [
    {
     "data": {
      "text/plain": [
       "<Figure size 800x400 with 1 Axes>"
      ],
      "image/png": "[encoded data removed]"
     },
     "metadata": {},
     "output_type": "display_data"
    }
   ],
   "execution_count": 107
  },
  {
   "metadata": {
    "ExecuteTime": {
     "end_time": "2025-07-02T16:01:32.379785Z",
     "start_time": "2025-07-02T16:01:32.300228Z"
    }
   },
   "cell_type": "code",
   "source": "import plotly.express as px",
   "id": "bf34b691a5ab29c7",
   "outputs": [],
   "execution_count": 21
  },
  {
   "metadata": {
    "ExecuteTime": {
     "end_time": "2025-07-02T17:40:22.699649Z",
     "start_time": "2025-07-02T17:40:22.425043Z"
    }
   },
   "cell_type": "code",
   "source": [
    "fig=px.line(\n",
    "    df,\n",
    "    width=800,\n",
    "    height=400,\n",
    "    template='ggplot2',\n",
    "    title='Ejercicio 7',\n",
    ")\n",
    "fig.update_layout(\n",
    "    xaxis_title='Fecha',\n",
    "    yaxis_title='Ventas en millones de dolares',\n",
    "    title='Ejercicio 7',\n",
    "    font_color='green',\n",
    "    font_family='Times New Roman',\n",
    "    legend_font_color='green',\n",
    ")\n",
    "fig.update_xaxes(\n",
    "    tickangle=45,\n",
    "    tickvals=df.index.values[::1],\n",
    "    tickmode='array',\n",
    ")\n",
    "fig.update_yaxes(\n",
    "    nticks=10,\n",
    "    #dtick=2500,\n",
    ")\n",
    "fig.add_hline(\n",
    "    y=1300000,\n",
    "    annotation_text='Limite',\n",
    "    annotation_position='bottom right',\n",
    "    #anotation_font_color='red',\n",
    "    line_dash='dot',\n",
    "    opacity=0.8,\n",
    "    line_width=1,\n",
    "    line_color='red',\n",
    ")\n",
    "fig.update_layout(\n",
    "    legend_title_text='Ejercicio 7',\n",
    "    legend={\n",
    "        'y':1 ,\n",
    "        'x':1.05,\n",
    "        'font':{\n",
    "            'family':'Times New Roman',\n",
    "            'size':12,\n",
    "            'color':'blue',\n",
    "        },\n",
    "        'bgcolor':'white',\n",
    "        'bordercolor':'black',\n",
    "        'borderwidth':1,\n",
    "\n",
    "    }\n",
    "\n",
    ")\n",
    "fig.show()\n",
    "\n",
    "plt.savefig(\n",
    "    'Ejercicio 7.png',\n",
    "    format='png',\n",
    "    dpi=600,\n",
    "\n",
    ")"
   ],
   "id": "66c7918df3bbf716",
   "outputs": [
    {
     "data": {
      "application/vnd.plotly.v1+json": {
       "data": [
        {
         "hovertemplate": "variable=DAIRY<br>fecha=%{x}<br>value=%{y}<extra></extra>",
         "legendgroup": "DAIRY",
         "line": {
          "color": "#F8766D",
          "dash": "solid"
         },
         "marker": {
          "symbol": "circle"
         },
         "mode": "lines",
         "name": "DAIRY",
         "orientation": "v",
         "showlegend": true,
         "x": [
          "2015-01",
          "2015-02",
          "2015-03",
          "2015-04",
          "2015-05",
          "2015-06",
          "2015-07",
          "2015-08",
          "2015-09",
          "2015-10",
          "2015-11",
          "2015-12"
         ],
         "xaxis": "x",
         "y": {
          "dtype": "f8",
          "bdata": "AAAAALlPMUEAAAAAliYvQQAAAACj1zJBAAAAAPwFMkEAAAAA/LszQQAAAADE+TJBAAAAAI/+MkEAAAAAREczQQAAAACrrzJBAAAAAAsQNEEAAAAAWJYzQQAAAACWRzVB"
         },
         "yaxis": "y",
         "type": "scatter"
        },
        {
         "hovertemplate": "variable=MEATS<br>fecha=%{x}<br>value=%{y}<extra></extra>",
         "legendgroup": "MEATS",
         "line": {
          "color": "#A3A500",
          "dash": "solid"
         },
         "marker": {
          "symbol": "circle"
         },
         "mode": "lines",
         "name": "MEATS",
         "orientation": "v",
         "showlegend": true,
         "x": [
          "2015-01",
          "2015-02",
          "2015-03",
          "2015-04",
          "2015-05",
          "2015-06",
          "2015-07",
          "2015-08",
          "2015-09",
          "2015-10",
          "2015-11",
          "2015-12"
         ],
         "xaxis": "x",
         "y": {
          "dtype": "f8",
          "bdata": "fzMxdRuTIEEA4q5OvHAeQThqhVGqrSBB6lp7HwHhH0FS76nMlw4iQZHyk0IsPiFBf/rPWq8nIkExtDpJvLwhQYAnLUQvLCFBILb0uGi5IUFkyRzbyVogQShgO8iqUCFB"
         },
         "yaxis": "y",
         "type": "scatter"
        },
        {
         "hovertemplate": "variable=SEAFOOD<br>fecha=%{x}<br>value=%{y}<extra></extra>",
         "legendgroup": "SEAFOOD",
         "line": {
          "color": "#00BF7D",
          "dash": "solid"
         },
         "marker": {
          "symbol": "circle"
         },
         "mode": "lines",
         "name": "SEAFOOD",
         "orientation": "v",
         "showlegend": true,
         "x": [
          "2015-01",
          "2015-02",
          "2015-03",
          "2015-04",
          "2015-05",
          "2015-06",
          "2015-07",
          "2015-08",
          "2015-09",
          "2015-10",
          "2015-11",
          "2015-12"
         ],
         "xaxis": "x",
         "y": {
          "dtype": "f8",
          "bdata": "+RVruDrC40Av77vzUZzhQOK2bCMPZOVAu9VzEu+F40DZ692fWsHkQJiABKqR7+JAy7/x0PLQ4kCyEYiX8nDiQCw95PdLduRAyJ6Y0P455ED8KDRa+PTiQAza9dwIeOBA"
         },
         "yaxis": "y",
         "type": "scatter"
        }
       ],
       "layout": {
        "template": {
         "data": {
          "barpolar": [
           {
            "marker": {
             "line": {
              "color": "rgb(237,237,237)",
              "width": 0.5
             },
             "pattern": {
              "fillmode": "overlay",
              "size": 10,
              "solidity": 0.2
             }
            },
            "type": "barpolar"
           }
          ],
          "bar": [
           {
            "error_x": {
             "color": "rgb(51,51,51)"
            },
            "error_y": {
             "color": "rgb(51,51,51)"
            },
            "marker": {
             "line": {
              "color": "rgb(237,237,237)",
              "width": 0.5
             },
             "pattern": {
              "fillmode": "overlay",
              "size": 10,
              "solidity": 0.2
             }
            },
            "type": "bar"
           }
          ],
          "carpet": [
           {
            "aaxis": {
             "endlinecolor": "rgb(51,51,51)",
             "gridcolor": "white",
             "linecolor": "white",
             "minorgridcolor": "white",
             "startlinecolor": "rgb(51,51,51)"
            },
            "baxis": {
             "endlinecolor": "rgb(51,51,51)",
             "gridcolor": "white",
             "linecolor": "white",
             "minorgridcolor": "white",
             "startlinecolor": "rgb(51,51,51)"
            },
            "type": "carpet"
           }
          ],
          "choropleth": [
           {
            "colorbar": {
             "outlinewidth": 0,
             "tickcolor": "rgb(237,237,237)",
             "ticklen": 6,
             "ticks": "inside"
            },
            "type": "choropleth"
           }
          ],
          "contourcarpet": [
           {
            "colorbar": {
             "outlinewidth": 0,
             "tickcolor": "rgb(237,237,237)",
             "ticklen": 6,
             "ticks": "inside"
            },
            "type": "contourcarpet"
           }
          ],
          "contour": [
           {
            "colorbar": {
             "outlinewidth": 0,
             "tickcolor": "rgb(237,237,237)",
             "ticklen": 6,
             "ticks": "inside"
            },
            "colorscale": [
             [
              0,
              "rgb(20,44,66)"
             ],
             [
              1,
              "rgb(90,179,244)"
             ]
            ],
            "type": "contour"
           }
          ],
          "heatmap": [
           {
            "colorbar": {
             "outlinewidth": 0,
             "tickcolor": "rgb(237,237,237)",
             "ticklen": 6,
             "ticks": "inside"
            },
            "colorscale": [
             [
              0,
              "rgb(20,44,66)"
             ],
             [
              1,
              "rgb(90,179,244)"
             ]
            ],
            "type": "heatmap"
           }
          ],
          "histogram2dcontour": [
           {
            "colorbar": {
             "outlinewidth": 0,
             "tickcolor": "rgb(237,237,237)",
             "ticklen": 6,
             "ticks": "inside"
            },
            "colorscale": [
             [
              0,
              "rgb(20,44,66)"
             ],
             [
              1,
              "rgb(90,179,244)"
             ]
            ],
            "type": "histogram2dcontour"
           }
          ],
          "histogram2d": [
           {
            "colorbar": {
             "outlinewidth": 0,
             "tickcolor": "rgb(237,237,237)",
             "ticklen": 6,
             "ticks": "inside"
            },
            "colorscale": [
             [
              0,
              "rgb(20,44,66)"
             ],
             [
              1,
              "rgb(90,179,244)"
             ]
            ],
            "type": "histogram2d"
           }
          ],
          "histogram": [
           {
            "marker": {
             "pattern": {
              "fillmode": "overlay",
              "size": 10,
              "solidity": 0.2
             }
            },
            "type": "histogram"
           }
          ],
          "mesh3d": [
           {
            "colorbar": {
             "outlinewidth": 0,
             "tickcolor": "rgb(237,237,237)",
             "ticklen": 6,
             "ticks": "inside"
            },
            "type": "mesh3d"
           }
          ],
          "parcoords": [
           {
            "line": {
             "colorbar": {
              "outlinewidth": 0,
              "tickcolor": "rgb(237,237,237)",
              "ticklen": 6,
              "ticks": "inside"
             }
            },
            "type": "parcoords"
           }
          ],
          "pie": [
           {
            "automargin": true,
            "type": "pie"
           }
          ],
          "scatter3d": [
           {
            "line": {
             "colorbar": {
              "outlinewidth": 0,
              "tickcolor": "rgb(237,237,237)",
              "ticklen": 6,
              "ticks": "inside"
             }
            },
            "marker": {
             "colorbar": {
              "outlinewidth": 0,
              "tickcolor": "rgb(237,237,237)",
              "ticklen": 6,
              "ticks": "inside"
             }
            },
            "type": "scatter3d"
           }
          ],
          "scattercarpet": [
           {
            "marker": {
             "colorbar": {
              "outlinewidth": 0,
              "tickcolor": "rgb(237,237,237)",
              "ticklen": 6,
              "ticks": "inside"
             }
            },
            "type": "scattercarpet"
           }
          ],
          "scattergeo": [
           {
            "marker": {
             "colorbar": {
              "outlinewidth": 0,
              "tickcolor": "rgb(237,237,237)",
              "ticklen": 6,
              "ticks": "inside"
             }
            },
            "type": "scattergeo"
           }
          ],
          "scattergl": [
           {
            "marker": {
             "colorbar": {
              "outlinewidth": 0,
              "tickcolor": "rgb(237,237,237)",
              "ticklen": 6,
              "ticks": "inside"
             }
            },
            "type": "scattergl"
           }
          ],
          "scattermapbox": [
           {
            "marker": {
             "colorbar": {
              "outlinewidth": 0,
              "tickcolor": "rgb(237,237,237)",
              "ticklen": 6,
              "ticks": "inside"
             }
            },
            "type": "scattermapbox"
           }
          ],
          "scattermap": [
           {
            "marker": {
             "colorbar": {
              "outlinewidth": 0,
              "tickcolor": "rgb(237,237,237)",
              "ticklen": 6,
              "ticks": "inside"
             }
            },
            "type": "scattermap"
           }
          ],
          "scatterpolargl": [
           {
            "marker": {
             "colorbar": {
              "outlinewidth": 0,
              "tickcolor": "rgb(237,237,237)",
              "ticklen": 6,
              "ticks": "inside"
             }
            },
            "type": "scatterpolargl"
           }
          ],
          "scatterpolar": [
           {
            "marker": {
             "colorbar": {
              "outlinewidth": 0,
              "tickcolor": "rgb(237,237,237)",
              "ticklen": 6,
              "ticks": "inside"
             }
            },
            "type": "scatterpolar"
           }
          ],
          "scatter": [
           {
            "fillpattern": {
             "fillmode": "overlay",
             "size": 10,
             "solidity": 0.2
            },
            "type": "scatter"
           }
          ],
          "scatterternary": [
           {
            "marker": {
             "colorbar": {
              "outlinewidth": 0,
              "tickcolor": "rgb(237,237,237)",
              "ticklen": 6,
              "ticks": "inside"
             }
            },
            "type": "scatterternary"
           }
          ],
          "surface": [
           {
            "colorbar": {
             "outlinewidth": 0,
             "tickcolor": "rgb(237,237,237)",
             "ticklen": 6,
             "ticks": "inside"
            },
            "colorscale": [
             [
              0,
              "rgb(20,44,66)"
             ],
             [
              1,
              "rgb(90,179,244)"
             ]
            ],
            "type": "surface"
           }
          ],
          "table": [
           {
            "cells": {
             "fill": {
              "color": "rgb(237,237,237)"
             },
             "line": {
              "color": "white"
             }
            },
            "header": {
             "fill": {
              "color": "rgb(217,217,217)"
             },
             "line": {
              "color": "white"
             }
            },
            "type": "table"
           }
          ]
         },
         "layout": {
          "annotationdefaults": {
           "arrowhead": 0,
           "arrowwidth": 1
          },
          "autotypenumbers": "strict",
          "coloraxis": {
           "colorbar": {
            "outlinewidth": 0,
            "tickcolor": "rgb(237,237,237)",
            "ticklen": 6,
            "ticks": "inside"
           }
          },
          "colorscale": {
           "sequential": [
            [
             0,
             "rgb(20,44,66)"
            ],
            [
             1,
             "rgb(90,179,244)"
            ]
           ],
           "sequentialminus": [
            [
             0,
             "rgb(20,44,66)"
            ],
            [
             1,
             "rgb(90,179,244)"
            ]
           ]
          },
          "colorway": [
           "#F8766D",
           "#A3A500",
           "#00BF7D",
           "#00B0F6",
           "#E76BF3"
          ],
          "font": {
           "color": "rgb(51,51,51)"
          },
          "geo": {
           "bgcolor": "white",
           "lakecolor": "white",
           "landcolor": "rgb(237,237,237)",
           "showlakes": true,
           "showland": true,
           "subunitcolor": "white"
          },
          "hoverlabel": {
           "align": "left"
          },
          "hovermode": "closest",
          "paper_bgcolor": "white",
          "plot_bgcolor": "rgb(237,237,237)",
          "polar": {
           "angularaxis": {
            "gridcolor": "white",
            "linecolor": "white",
            "showgrid": true,
            "tickcolor": "rgb(51,51,51)",
            "ticks": "outside"
           },
           "bgcolor": "rgb(237,237,237)",
           "radialaxis": {
            "gridcolor": "white",
            "linecolor": "white",
            "showgrid": true,
            "tickcolor": "rgb(51,51,51)",
            "ticks": "outside"
           }
          },
          "scene": {
           "xaxis": {
            "backgroundcolor": "rgb(237,237,237)",
            "gridcolor": "white",
            "gridwidth": 2,
            "linecolor": "white",
            "showbackground": true,
            "showgrid": true,
            "tickcolor": "rgb(51,51,51)",
            "ticks": "outside",
            "zerolinecolor": "white"
           },
           "yaxis": {
            "backgroundcolor": "rgb(237,237,237)",
            "gridcolor": "white",
            "gridwidth": 2,
            "linecolor": "white",
            "showbackground": true,
            "showgrid": true,
            "tickcolor": "rgb(51,51,51)",
            "ticks": "outside",
            "zerolinecolor": "white"
           },
           "zaxis": {
            "backgroundcolor": "rgb(237,237,237)",
            "gridcolor": "white",
            "gridwidth": 2,
            "linecolor": "white",
            "showbackground": true,
            "showgrid": true,
            "tickcolor": "rgb(51,51,51)",
            "ticks": "outside",
            "zerolinecolor": "white"
           }
          },
          "shapedefaults": {
           "fillcolor": "black",
           "line": {
            "width": 0
           },
           "opacity": 0.3
          },
          "ternary": {
           "aaxis": {
            "gridcolor": "white",
            "linecolor": "white",
            "showgrid": true,
            "tickcolor": "rgb(51,51,51)",
            "ticks": "outside"
           },
           "baxis": {
            "gridcolor": "white",
            "linecolor": "white",
            "showgrid": true,
            "tickcolor": "rgb(51,51,51)",
            "ticks": "outside"
           },
           "bgcolor": "rgb(237,237,237)",
           "caxis": {
            "gridcolor": "white",
            "linecolor": "white",
            "showgrid": true,
            "tickcolor": "rgb(51,51,51)",
            "ticks": "outside"
           }
          },
          "xaxis": {
           "automargin": true,
           "gridcolor": "white",
           "linecolor": "white",
           "showgrid": true,
           "tickcolor": "rgb(51,51,51)",
           "ticks": "outside",
           "title": {
            "standoff": 15
           },
           "zerolinecolor": "white"
          },
          "yaxis": {
           "automargin": true,
           "gridcolor": "white",
           "linecolor": "white",
           "showgrid": true,
           "tickcolor": "rgb(51,51,51)",
           "ticks": "outside",
           "title": {
            "standoff": 15
           },
           "zerolinecolor": "white"
          }
         }
        },
        "xaxis": {
         "anchor": "y",
         "domain": [
          0.0,
          1.0
         ],
         "title": {
          "text": "Fecha"
         },
         "tickangle": 45,
         "tickvals": [
          "2015-01",
          "2015-02",
          "2015-03",
          "2015-04",
          "2015-05",
          "2015-06",
          "2015-07",
          "2015-08",
          "2015-09",
          "2015-10",
          "2015-11",
          "2015-12"
         ],
         "tickmode": "array"
        },
        "yaxis": {
         "anchor": "x",
         "domain": [
          0.0,
          1.0
         ],
         "title": {
          "text": "Ventas en millones de dolares"
         },
         "nticks": 10
        },
        "legend": {
         "title": {
          "text": "Ejercicio 7"
         },
         "tracegroupgap": 0,
         "font": {
          "color": "blue",
          "family": "Times New Roman",
          "size": 12
         },
         "y": 1,
         "x": 1.05,
         "bgcolor": "white",
         "bordercolor": "black",
         "borderwidth": 1
        },
        "title": {
         "text": "Ejercicio 7"
        },
        "height": 400,
        "width": 800,
        "font": {
         "color": "green",
         "family": "Times New Roman"
        },
        "shapes": [
         {
          "line": {
           "color": "red",
           "dash": "dot",
           "width": 1
          },
          "opacity": 0.8,
          "type": "line",
          "x0": 0,
          "x1": 1,
          "xref": "x domain",
          "y0": 1300000,
          "y1": 1300000,
          "yref": "y"
         }
        ],
        "annotations": [
         {
          "showarrow": false,
          "text": "Limite",
          "x": 1,
          "xanchor": "right",
          "xref": "x domain",
          "y": 1300000,
          "yanchor": "top",
          "yref": "y"
         }
        ]
       },
       "config": {
        "plotlyServerURL": "https://plot.ly"
       }
      }
     },
     "metadata": {},
     "output_type": "display_data"
    },
    {
     "data": {
      "text/plain": [
       "<Figure size 640x480 with 0 Axes>"
      ]
     },
     "metadata": {},
     "output_type": "display_data"
    }
   ],
   "execution_count": 117
  }
 ],
 "metadata": {
  "kernelspec": {
   "display_name": "Python 3",
   "language": "python",
   "name": "python3"
  },
  "language_info": {
   "codemirror_mode": {
    "name": "ipython",
    "version": 2
   },
   "file_extension": ".py",
   "mimetype": "text/x-python",
   "name": "python",
   "nbconvert_exporter": "python",
   "pygments_lexer": "ipython2",
   "version": "2.7.6"
  }
 },
 "nbformat": 4,
 "nbformat_minor": 5
}
